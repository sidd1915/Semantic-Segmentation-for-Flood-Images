{
  "cells": [
    {
      "cell_type": "code",
      "execution_count": null,
      "metadata": {},
      "outputs": [],
      "source": [
        "import os\n",
        "import cv2\n",
        "import matplotlib.pyplot as plt\n",
        "import numpy as np\n",
        "from PIL import Image\n",
        "from tensorflow.keras.preprocessing.image import load_img, img_to_array\n",
        "import tensorflow as tf\n",
        "from tensorflow.keras.applications import VGG16\n",
        "from tensorflow.keras.layers import Input, Conv2D, MaxPooling2D, Dropout, concatenate, Conv2DTranspose\n",
        "from tensorflow.keras.models import Model\n",
        "import keras.backend as K"
      ]
    },
    {
      "cell_type": "code",
      "execution_count": null,
      "metadata": {
        "colab": {
          "base_uri": "https://localhost:8080/"
        },
        "id": "6zelSPCYZQlp",
        "outputId": "4b0c45c0-4772-4a4f-e13a-0bb044fec7da"
      },
      "outputs": [],
      "source": [
        "from google.colab import drive\n",
        "drive.mount('/content/drive')"
      ]
    },
    {
      "cell_type": "code",
      "execution_count": null,
      "metadata": {
        "colab": {
          "base_uri": "https://localhost:8080/"
        },
        "id": "_TaaJG_VZRbF",
        "outputId": "2d26f138-a9e0-48d8-9b97-8a29e0f105b0"
      },
      "outputs": [],
      "source": [
        "%cd '/content/drive/MyDrive/Floodnet'"
      ]
    },
    {
      "cell_type": "code",
      "execution_count": null,
      "metadata": {
        "colab": {
          "base_uri": "https://localhost:8080/"
        },
        "id": "ADHZ2mDdI_SO",
        "outputId": "2d4069ce-aa25-4d01-c0f6-a7cea31bec09"
      },
      "outputs": [],
      "source": [
        "train_images_dir = os.path.join('train', 'images')\n",
        "train_masks_dir = os.path.join('train', 'masks')\n",
        "val_images_dir = os.path.join('val', 'images')\n",
        "val_masks_dir = os.path.join('val', 'masks')\n",
        "\n",
        "\n",
        "def count_files(directory):\n",
        "    return len([file for file in os.listdir(directory) if os.path.isfile(os.path.join(directory, file))])\n",
        "\n",
        "\n",
        "train_images_count = count_files(train_images_dir)\n",
        "train_masks_count = count_files(train_masks_dir)\n",
        "val_images_count = count_files(val_images_dir)\n",
        "val_masks_count = count_files(val_masks_dir)\n",
        "\n",
        "\n",
        "print(f\"Number of files in {train_images_dir}: {train_images_count}\")\n",
        "print(f\"Number of files in {train_masks_dir}: {train_masks_count}\")\n",
        "print(f\"Number of files in {val_images_dir}: {val_images_count}\")\n",
        "print(f\"Number of files in {val_masks_dir}: {val_masks_count}\")\n"
      ]
    },
    {
      "cell_type": "code",
      "execution_count": null,
      "metadata": {
        "colab": {
          "base_uri": "https://localhost:8080/",
          "height": 614
        },
        "id": "AMgva5FMoKE1",
        "outputId": "9893b9c5-63cd-4157-b66c-c87255139e7a"
      },
      "outputs": [],
      "source": [
        "train_folder = 'val'\n",
        "\n",
        "\n",
        "images_folder = os.path.join(train_folder, 'images')\n",
        "masks_folder = os.path.join(train_folder, 'masks')\n",
        "\n",
        "\n",
        "image_files = sorted([f for f in os.listdir(images_folder) if f.endswith('.jpg')])\n",
        "mask_files = sorted([f for f in os.listdir(masks_folder) if f.endswith('.png')])\n",
        "\n",
        "\n",
        "idx = 90\n",
        "\n",
        "\n",
        "img_path = os.path.join(images_folder, image_files[idx])\n",
        "mask_path = os.path.join(masks_folder, mask_files[idx])\n",
        "\n",
        "img = cv2.imread(img_path)\n",
        "mask = cv2.imread(mask_path, cv2.IMREAD_GRAYSCALE)\n",
        "\n",
        "img_rgb = cv2.cvtColor(img, cv2.COLOR_BGR2RGB)\n",
        "\n",
        "\n",
        "plt.figure(figsize=(12, 6))\n",
        "\n",
        "plt.subplot(1, 2, 1)\n",
        "plt.imshow(img_rgb)\n",
        "plt.title('Image')\n",
        "plt.axis('off')\n",
        "\n",
        "plt.subplot(1, 2, 2)\n",
        "plt.imshow(mask, cmap='gray')\n",
        "plt.title('Mask')\n",
        "plt.axis('off')\n",
        "\n",
        "plt.tight_layout()\n",
        "plt.show()\n"
      ]
    },
    {
      "cell_type": "code",
      "execution_count": null,
      "metadata": {
        "id": "mTeTfJYfVgJk"
      },
      "outputs": [],
      "source": [
        "train_images_dir = 'train/images'\n",
        "train_masks_dir = 'train/masks'\n",
        "val_images_dir = 'val/images'\n",
        "val_masks_dir = 'val/masks'"
      ]
    },
    {
      "cell_type": "code",
      "execution_count": null,
      "metadata": {
        "id": "mcs64WoUVL8z"
      },
      "outputs": [],
      "source": [
        "\n",
        "\n",
        "# Function to load and preprocess images and masks\n",
        "def preprocess_images_and_masks(image_dir, mask_dir):\n",
        "    images = []\n",
        "    masks = []\n",
        "\n",
        "    # Get list of filenames from directory\n",
        "    file_names = os.listdir(image_dir)\n",
        "\n",
        "    for filename in file_names:\n",
        "        # Load image and mask\n",
        "        image_path = os.path.join(image_dir, filename)\n",
        "        mask_path = os.path.join(mask_dir, filename.replace('.jpg', '_lab.png'))  # Adjust mask filename\n",
        "\n",
        "        image = load_img(image_path)   # Load and resize image\n",
        "        mask = load_img(mask_path, color_mode='grayscale')  # Load and resize mask\n",
        "\n",
        "        # Convert images and masks to numpy arrays and normalize\n",
        "        image_array = img_to_array(image) / 255.0\n",
        "        mask_array = img_to_array(mask)\n",
        "\n",
        "        images.append(image_array)\n",
        "        masks.append(mask_array)\n",
        "\n",
        "    return np.array(images), np.array(masks)"
      ]
    },
    {
      "cell_type": "code",
      "execution_count": null,
      "metadata": {
        "colab": {
          "base_uri": "https://localhost:8080/",
          "height": 373
        },
        "id": "jaEBTn7jV1cv",
        "outputId": "7cdf6394-4d1d-406a-a84e-1856a83fc26a"
      },
      "outputs": [],
      "source": [
        "train_images, train_masks = preprocess_images_and_masks(train_images_dir, train_masks_dir)\n",
        "np.save('train_images.npy', train_images)\n",
        "np.save('train_masks.npy', train_masks)\n",
        "\n",
        "\n",
        "val_images, val_masks = preprocess_images_and_masks(val_images_dir, val_masks_dir)\n",
        "np.save('val_images.npy', val_images)\n",
        "np.save('val_masks.npy', val_masks)\n",
        "\n",
        "print(f\"Training images shape: {train_images.shape}, dtype: {train_images.dtype}\")\n",
        "print(f\"Training masks shape: {train_masks.shape}, dtype: {train_masks.dtype}\")\n",
        "print(f\"Validation images shape: {val_images.shape}, dtype: {val_images.dtype}\")\n",
        "print(f\"Validation masks shape: {val_masks.shape}, dtype: {val_masks.dtype}\")"
      ]
    },
    {
      "cell_type": "code",
      "execution_count": null,
      "metadata": {
        "colab": {
          "base_uri": "https://localhost:8080/",
          "height": 558
        },
        "id": "m0byQaJC2dx-",
        "outputId": "028e6e24-9a89-4698-9aab-acbe78011751"
      },
      "outputs": [],
      "source": [
        "train_images_path = 'train_images.npy'\n",
        "train_masks_path = 'train_masks.npy'\n",
        "\n",
        "# Load numpy arrays\n",
        "train_images = np.load(train_images_path)\n",
        "train_masks = np.load(train_masks_path)\n",
        "\n",
        "# Print shapes and types to verify\n",
        "print(f\"Loaded training images shape: {train_images.shape}, dtype: {train_images.dtype}\")\n",
        "print(f\"Loaded training masks shape: {train_masks.shape}, dtype: {train_masks.dtype}\")\n",
        "\n",
        "# Choose an example index to visualize\n",
        "example_index = 200\n",
        "\n",
        "# Display example image and mask\n",
        "plt.figure(figsize=(10, 5))\n",
        "\n",
        "# Plot the image\n",
        "plt.subplot(1, 2, 1)\n",
        "plt.imshow(train_images[example_index])\n",
        "plt.title('Example Image')\n",
        "plt.axis('off')\n",
        "\n",
        "# Plot the mask\n",
        "plt.subplot(1, 2, 2)\n",
        "plt.imshow(train_masks[example_index].squeeze(), cmap='gray')\n",
        "plt.title('Example Mask')\n",
        "plt.axis('off')\n",
        "\n",
        "plt.tight_layout()\n",
        "plt.show()\n"
      ]
    },
    {
      "cell_type": "code",
      "execution_count": null,
      "metadata": {
        "colab": {
          "base_uri": "https://localhost:8080/"
        },
        "id": "Q6PXBtVZ2jJc",
        "outputId": "300f06bf-57c3-405c-fe82-43d08b65af81"
      },
      "outputs": [],
      "source": [
        "val_images_path = 'val_images.npy'\n",
        "val_masks_path = 'val_masks.npy'\n",
        "\n",
        "# Load numpy arrays for validation\n",
        "val_images = np.load(val_images_path)\n",
        "val_masks = np.load(val_masks_path)\n",
        "\n",
        "# Print shapes and types to verify\n",
        "print(f\"Loaded validation images shape: {val_images.shape}, dtype: {val_images.dtype}\")\n",
        "print(f\"Loaded validation masks shape: {val_masks.shape}, dtype: {val_masks.dtype}\")\n"
      ]
    },
    {
      "cell_type": "code",
      "execution_count": null,
      "metadata": {
        "id": "0785WO6A6q57"
      },
      "outputs": [],
      "source": [
        "train_masks = train_masks.astype(np.uint8)\n",
        "val_masks = val_masks.astype(np.uint8)"
      ]
    },
    {
      "cell_type": "code",
      "execution_count": null,
      "metadata": {
        "id": "mbrd3Vqv6vzQ"
      },
      "outputs": [],
      "source": [
        "train_masks_categorical = tf.keras.utils.to_categorical(train_masks, num_classes=10)\n",
        "val_masks_categorical = tf.keras.utils.to_categorical(val_masks, num_classes=10)"
      ]
    },
    {
      "cell_type": "code",
      "execution_count": null,
      "metadata": {
        "colab": {
          "base_uri": "https://localhost:8080/"
        },
        "id": "byADQn8f69rp",
        "outputId": "3db8834b-5cdd-4b1f-c806-a8b11cd63867"
      },
      "outputs": [
        {
          "data": {
            "text/plain": [
              "(2603, 512, 512, 10)"
            ]
          },
          "execution_count": 11,
          "metadata": {},
          "output_type": "execute_result"
        }
      ],
      "source": [
        "train_masks_categorical.shape"
      ]
    },
    {
      "cell_type": "code",
      "execution_count": null,
      "metadata": {
        "colab": {
          "base_uri": "https://localhost:8080/"
        },
        "id": "9TKnwyCW6_4N",
        "outputId": "ac46bb40-5835-4317-99aa-8557f574d44f"
      },
      "outputs": [
        {
          "data": {
            "text/plain": [
              "(867, 512, 512, 10)"
            ]
          },
          "execution_count": 12,
          "metadata": {},
          "output_type": "execute_result"
        }
      ],
      "source": [
        "val_masks_categorical.shape"
      ]
    },
    {
      "cell_type": "code",
      "execution_count": null,
      "metadata": {
        "id": "2hYU5mG2rV5f"
      },
      "outputs": [],
      "source": [
        "loss1 = tf.keras.losses.CategoricalCrossentropy()"
      ]
    },
    {
      "cell_type": "code",
      "execution_count": null,
      "metadata": {
        "id": "PQYvBBIPrXcA"
      },
      "outputs": [],
      "source": [
        "loss2 = tf.keras.losses.CategoricalFocalCrossentropy()"
      ]
    },
    {
      "cell_type": "code",
      "execution_count": null,
      "metadata": {
        "id": "JlPLs4cb0YNF"
      },
      "outputs": [],
      "source": [
        "def jaccard_loss(y_true, y_pred):\n",
        "    smooth = 1e-10\n",
        "    y_true_f = K.flatten(y_true)\n",
        "    y_pred_f = K.flatten(y_pred)\n",
        "    intersection = K.sum(y_true_f * y_pred_f)\n",
        "    sum_ = K.sum(y_true_f + y_pred_f)\n",
        "    jac = (intersection + smooth) / (sum_ - intersection + smooth)\n",
        "    return 1 - jac"
      ]
    },
    {
      "cell_type": "code",
      "execution_count": null,
      "metadata": {
        "id": "Qwxgw433skbd"
      },
      "outputs": [],
      "source": [
        "from keras.optimizers import Adam"
      ]
    },
    {
      "cell_type": "code",
      "execution_count": null,
      "metadata": {
        "colab": {
          "base_uri": "https://localhost:8080/"
        },
        "id": "tNhrrzRVrYzy",
        "outputId": "255d98a6-e466-4798-8215-39b9443e8ed1"
      },
      "outputs": [
        {
          "name": "stdout",
          "output_type": "stream",
          "text": [
            "Model: \"model_3\"\n",
            "__________________________________________________________________________________________________\n",
            " Layer (type)                Output Shape                 Param #   Connected to                  \n",
            "==================================================================================================\n",
            " input_4 (InputLayer)        [(None, 512, 512, 3)]        0         []                            \n",
            "                                                                                                  \n",
            " block1_conv1 (Conv2D)       (None, 512, 512, 64)         1792      ['input_4[0][0]']             \n",
            "                                                                                                  \n",
            " block1_conv2 (Conv2D)       (None, 512, 512, 64)         36928     ['block1_conv1[0][0]']        \n",
            "                                                                                                  \n",
            " block1_pool (MaxPooling2D)  (None, 256, 256, 64)         0         ['block1_conv2[0][0]']        \n",
            "                                                                                                  \n",
            " block2_conv1 (Conv2D)       (None, 256, 256, 128)        73856     ['block1_pool[0][0]']         \n",
            "                                                                                                  \n",
            " block2_conv2 (Conv2D)       (None, 256, 256, 128)        147584    ['block2_conv1[0][0]']        \n",
            "                                                                                                  \n",
            " block2_pool (MaxPooling2D)  (None, 128, 128, 128)        0         ['block2_conv2[0][0]']        \n",
            "                                                                                                  \n",
            " block3_conv1 (Conv2D)       (None, 128, 128, 256)        295168    ['block2_pool[0][0]']         \n",
            "                                                                                                  \n",
            " block3_conv2 (Conv2D)       (None, 128, 128, 256)        590080    ['block3_conv1[0][0]']        \n",
            "                                                                                                  \n",
            " block3_conv3 (Conv2D)       (None, 128, 128, 256)        590080    ['block3_conv2[0][0]']        \n",
            "                                                                                                  \n",
            " block3_pool (MaxPooling2D)  (None, 64, 64, 256)          0         ['block3_conv3[0][0]']        \n",
            "                                                                                                  \n",
            " block4_conv1 (Conv2D)       (None, 64, 64, 512)          1180160   ['block3_pool[0][0]']         \n",
            "                                                                                                  \n",
            " block4_conv2 (Conv2D)       (None, 64, 64, 512)          2359808   ['block4_conv1[0][0]']        \n",
            "                                                                                                  \n",
            " block4_conv3 (Conv2D)       (None, 64, 64, 512)          2359808   ['block4_conv2[0][0]']        \n",
            "                                                                                                  \n",
            " conv2d_transpose_9 (Conv2D  (None, 128, 128, 256)        524544    ['block4_conv3[0][0]']        \n",
            " Transpose)                                                                                       \n",
            "                                                                                                  \n",
            " concatenate_9 (Concatenate  (None, 128, 128, 512)        0         ['block3_conv3[0][0]',        \n",
            " )                                                                   'conv2d_transpose_9[0][0]']  \n",
            "                                                                                                  \n",
            " conv2d_12 (Conv2D)          (None, 128, 128, 256)        1179904   ['concatenate_9[0][0]']       \n",
            "                                                                                                  \n",
            " dropout_9 (Dropout)         (None, 128, 128, 256)        0         ['conv2d_12[0][0]']           \n",
            "                                                                                                  \n",
            " conv2d_transpose_10 (Conv2  (None, 256, 256, 128)        131200    ['dropout_9[0][0]']           \n",
            " DTranspose)                                                                                      \n",
            "                                                                                                  \n",
            " concatenate_10 (Concatenat  (None, 256, 256, 256)        0         ['block2_conv2[0][0]',        \n",
            " e)                                                                  'conv2d_transpose_10[0][0]'] \n",
            "                                                                                                  \n",
            " conv2d_13 (Conv2D)          (None, 256, 256, 128)        295040    ['concatenate_10[0][0]']      \n",
            "                                                                                                  \n",
            " dropout_10 (Dropout)        (None, 256, 256, 128)        0         ['conv2d_13[0][0]']           \n",
            "                                                                                                  \n",
            " conv2d_transpose_11 (Conv2  (None, 512, 512, 64)         32832     ['dropout_10[0][0]']          \n",
            " DTranspose)                                                                                      \n",
            "                                                                                                  \n",
            " concatenate_11 (Concatenat  (None, 512, 512, 128)        0         ['block1_conv2[0][0]',        \n",
            " e)                                                                  'conv2d_transpose_11[0][0]'] \n",
            "                                                                                                  \n",
            " conv2d_14 (Conv2D)          (None, 512, 512, 64)         73792     ['concatenate_11[0][0]']      \n",
            "                                                                                                  \n",
            " dropout_11 (Dropout)        (None, 512, 512, 64)         0         ['conv2d_14[0][0]']           \n",
            "                                                                                                  \n",
            " conv2d_15 (Conv2D)          (None, 512, 512, 10)         650       ['dropout_11[0][0]']          \n",
            "                                                                                                  \n",
            "==================================================================================================\n",
            "Total params: 9873226 (37.66 MB)\n",
            "Trainable params: 2237962 (8.54 MB)\n",
            "Non-trainable params: 7635264 (29.13 MB)\n",
            "__________________________________________________________________________________________________\n"
          ]
        }
      ],
      "source": [
        "\n",
        "input_shape = (512, 512, 3)\n",
        "\n",
        "vgg16 = VGG16(weights='imagenet', include_top=False, input_shape=input_shape)\n",
        "\n",
        "for layer in vgg16.layers:\n",
        "    layer.trainable = False\n",
        "\n",
        "\n",
        "encoder_layers = ['block1_conv2', 'block2_conv2', 'block3_conv3', 'block4_conv3']\n",
        "encoder_output = [vgg16.get_layer(layer_name).output for layer_name in encoder_layers]\n",
        "\n",
        "# Decoder\n",
        "# Contracting path (encoder)\n",
        "inputs = vgg16.input\n",
        "skips = encoder_output\n",
        "\n",
        "# Expanding path (decoder)\n",
        "x = skips[-1]  # Starting point of decoder\n",
        "for i in range(1, len(skips)):\n",
        "    x = Conv2DTranspose(512 // (2 ** i), (2, 2), strides=(2, 2), padding='same')(x)\n",
        "    x = concatenate([skips[-i-1], x], axis=3)\n",
        "    x = Conv2D(512 // (2 ** i), (3, 3), activation='relu', padding='same')(x)\n",
        "    x = Dropout(0.5)(x)\n",
        "\n",
        "# Final convolution layer (output layer)\n",
        "num_classes = 10\n",
        "outputs = Conv2D(num_classes, (1, 1), activation='softmax')(x)\n",
        "\n",
        "# Create the model\n",
        "model = Model(inputs=[inputs], outputs=[outputs])\n",
        "\n",
        "optimizer = Adam(learning_rate=0.0001)\n",
        "# Compile the model\n",
        "model.compile(optimizer='adam', loss=jaccard_loss, metrics=['accuracy'])\n",
        "\n",
        "# Print model summary\n",
        "model.summary()\n"
      ]
    },
    {
      "cell_type": "code",
      "execution_count": null,
      "metadata": {
        "colab": {
          "base_uri": "https://localhost:8080/",
          "height": 391
        },
        "id": "cfS5KkP795iK",
        "outputId": "83d80be8-5f94-4a18-fe3f-b1a5e518d60a"
      },
      "outputs": [],
      "source": [
        "batch_size = 16\n",
        "epochs = 2\n",
        "\n",
        "# Train the model\n",
        "history = model.fit(\n",
        "    train_images,\n",
        "    train_masks_categorical,\n",
        "    validation_data=(val_images, val_masks_categorical),\n",
        "    batch_size=batch_size,\n",
        "    epochs=epochs,\n",
        "    verbose=1\n",
        ")\n",
        "\n",
        "plt.figure(figsize=(12, 5))\n",
        "\n",
        "# Plot training & validation loss values\n",
        "plt.subplot(1, 2, 1)\n",
        "plt.plot(history.history['loss'], label='Training Loss')\n",
        "plt.plot(history.history['val_loss'], label='Validation Loss')\n",
        "plt.xlabel('Epochs')\n",
        "plt.ylabel('Loss')\n",
        "plt.legend(loc='upper right')\n",
        "plt.title('Training and Validation Loss')\n",
        "\n",
        "# Plot training & validation accuracy values\n",
        "plt.subplot(1, 2, 2)\n",
        "plt.plot(history.history['accuracy'], label='Training Accuracy')\n",
        "plt.plot(history.history['val_accuracy'], label='Validation Accuracy')\n",
        "plt.xlabel('Epochs')\n",
        "plt.ylabel('Accuracy')\n",
        "plt.legend(loc='upper left')\n",
        "plt.title('Training and Validation Accuracy')\n",
        "\n",
        "plt.tight_layout()\n",
        "plt.show()"
      ]
    },
    {
      "cell_type": "code",
      "execution_count": null,
      "metadata": {
        "id": "wBp8TEMn7Ts1"
      },
      "outputs": [],
      "source": [
        "model.save('floodnet_model.h5')"
      ]
    }
  ],
  "metadata": {
    "colab": {
      "provenance": []
    },
    "kernelspec": {
      "display_name": "Python 3",
      "name": "python3"
    },
    "language_info": {
      "name": "python"
    }
  },
  "nbformat": 4,
  "nbformat_minor": 0
}
